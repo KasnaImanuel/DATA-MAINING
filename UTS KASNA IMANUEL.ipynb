{
 "cells": [
  {
   "cell_type": "markdown",
   "id": "d98d5646-1d55-4199-9813-75fceb287e49",
   "metadata": {},
   "source": [
    "UTS_DATA_MAINING"
   ]
  },
  {
   "cell_type": "markdown",
   "id": "84157a72-d12c-4dc0-80c4-da7c8c876cd3",
   "metadata": {},
   "source": [
    "KASNA IMANUEL"
   ]
  },
  {
   "cell_type": "markdown",
   "id": "6480d46b-f2a6-4e91-a843-4fb46f4ebd0e",
   "metadata": {},
   "source": [
    "2210111400270"
   ]
  },
  {
   "cell_type": "markdown",
   "id": "71c94483-0bbf-4f99-ae87-3486a59c21d7",
   "metadata": {},
   "source": [
    "JAWABAN TYPE DATA"
   ]
  },
  {
   "cell_type": "code",
   "execution_count": null,
   "id": "3fef07ac-ec4f-4810-bc54-b8202f7f9b05",
   "metadata": {},
   "outputs": [],
   "source": [
    "\n",
    "company_name_list = [{'name': 'Company 1'},\n",
    "          {'name': 'Company 2'},\n",
    "          {'name': 'Company 3'}]\n",
    "\n",
    "employee_name_list = [{'name': 'John Doe'},\n",
    "          {'name': 'Tom Smith'},\n",
    "          {'name': 'Andrew Sebastian'}]\n",
    "\n",
    "company_detail_list = {\n",
    "      'Company 1': {\n",
    "          'name': 'Company 1',\n",
    "          'domain': 'Retail',\n",
    "          'clients': [\n",
    "              {\n",
    "                  'name': 'acme.inc',\n",
    "                  'country': 'united states'\n",
    "              },\n",
    "              {\n",
    "                  'name': 'Wayne.co',\n",
    "                  'country': 'united states'\n",
    "              }\n",
    "          ]\n",
    "      },\n",
    "      'Company 2': {\n",
    "          'name': 'Company 2',\n",
    "          'domain': 'Construction',\n",
    "          'clients': [\n",
    "              {\n",
    "                  'name': 'Tesla',\n",
    "                  'country': 'united states'\n",
    "              },\n",
    "              {\n",
    "                  'name': 'Japan Airlines',\n",
    "                  'country': 'japan'\n",
    "              },\n",
    "              {\n",
    "                  'name': 'Indofood',\n",
    "                  'country': 'indonesia'\n",
    "              }\n",
    "          ]\n",
    "      },\n",
    "      'Company 3': {\n",
    "          'name': 'Company 3',\n",
    "          'domain': 'Healthcare',\n",
    "          'clients': [\n",
    "              {\n",
    "                  'name': 'Petronas',\n",
    "                  'country': 'malaysia'\n",
    "              },\n",
    "              {\n",
    "                  'name': 'VW Group',\n",
    "                  'country': 'germany'\n",
    "              },\n",
    "              {\n",
    "                  'name': 'IBM',\n",
    "                  'country': 'united states'\n",
    "              },\n",
    "              {\n",
    "                  'name': 'Mitsubishi',\n",
    "                  'country': 'japan'\n",
    "              }\n",
    "          ]\n",
    "      }\n",
    "  }\n",
    "\n",
    "employee_detail_list = {\n",
    "      'John Doe': {\n",
    "          'name': 'EMP-0001',\n",
    "          'first_name': 'John',\n",
    "          'last_name': 'Doe',\n",
    "          'full_name': 'John Doe',\n",
    "          'company': 'Company 1'\n",
    "      },\n",
    "      'Tom Smith': {\n",
    "          'name': 'EMP-0002',\n",
    "          'first_name': 'Tom',\n",
    "          'last_name': 'Smith',\n",
    "          'full_name': 'Tom Smith',\n",
    "          'company': 'Company 2'\n",
    "      },\n",
    "      'Andrew Sebastian': {\n",
    "          'name': 'EMP-0003',\n",
    "          'first_name': 'Andrew',\n",
    "          'last_name': 'Sebastian',\n",
    "          'full_name': 'Andrew Sebastian',\n",
    "          'company': 'Company 2'\n",
    "      },\n",
    "  }"
   ]
  },
  {
   "cell_type": "markdown",
   "id": "1d460e96-26d2-4fa5-bc19-db4c0fac83bf",
   "metadata": {},
   "source": [
    "Soal 1"
   ]
  },
  {
   "cell_type": "code",
   "execution_count": 149,
   "id": "4acbd4bb-a2fa-46c5-916d-680599097c7b",
   "metadata": {},
   "outputs": [
    {
     "name": "stdout",
     "output_type": "stream",
     "text": [
      "Name: Company 1\n",
      "Domain: Retail\n",
      "\n",
      "Name: Company 2\n",
      "Domain: Construction\n",
      "\n",
      "Name: Company 3\n",
      "Domain: Healthcare\n",
      "\n"
     ]
    }
   ],
   "source": [
    "def sort_company(company_list):\n",
    "    for company_name, company_detail in company_detail_list.items():\n",
    "        print(\"Name:\", company_detail['name'])\n",
    "        print(\"Domain:\", company_detail['domain'])\n",
    "        print()\n",
    "\n",
    "company_detail_list = {\n",
    "      'Company 1': {\n",
    "          'name': 'Company 1',\n",
    "          'domain': 'Retail'},\n",
    "    'Company 2': {\n",
    "          'name': 'Company 2',\n",
    "          'domain': 'Construction'},\n",
    "     'Company 3': {\n",
    "          'name': 'Company 3',\n",
    "          'domain': 'Healthcare'}}\n",
    "     \n",
    "\n",
    "   \n",
    "sort_company(company_detail_list)"
   ]
  },
  {
   "cell_type": "markdown",
   "id": "33291927-30f5-4589-98a8-ddc5117ecb7a",
   "metadata": {},
   "source": [
    "SOAL 2"
   ]
  },
  {
   "cell_type": "code",
   "execution_count": 154,
   "id": "7ff63972-eb57-4e0f-8c33-00239df48913",
   "metadata": {},
   "outputs": [
    {
     "name": "stdout",
     "output_type": "stream",
     "text": [
      "Company 1: Retail, relation: 2 clients\n",
      "Company 2: Construction, relation: 3 clients\n",
      "Company 3: Healthcare, relation: 4 clients\n"
     ]
    }
   ],
   "source": [
    "def get_company_domain(company_detail_list):\n",
    "    for company_name, details in company_detail_list.items():\n",
    "        domain = details['domain']\n",
    "        num_clients = len(details['clients'])\n",
    "        print(f\"{company_name}: {domain}, relation: {num_clients} clients\")\n",
    "get_company_domain(company_detail_list)"
   ]
  },
  {
   "cell_type": "markdown",
   "id": "edb84a65-1f18-44d7-9c95-e1575204c316",
   "metadata": {},
   "source": [
    "Soal 3"
   ]
  },
  {
   "cell_type": "code",
   "execution_count": 159,
   "id": "7ca7d35f-5649-43e9-866f-310bf6bf2435",
   "metadata": {},
   "outputs": [
    {
     "name": "stdout",
     "output_type": "stream",
     "text": [
      "\"full_name\": \"John Doe\", \"company\": \"Company 1\", \"domain\": \"Retail\"\n",
      "\"full_name\": \"Tom Smith\", \"company\": \"Company 2\", \"domain\": \"Construction\"\n",
      "\"full_name\": \"Andrew Sebastian\", \"company\": \"Company 2\", \"domain\": \"Construction\"\n"
     ]
    }
   ],
   "source": [
    "def print_employee_company_domain():\n",
    "    for employee_name, employee_detail in employee_detail_list.items():\n",
    "        company_name = employee_detail['company']\n",
    "        company_domain = company_detail_list[company_name]['domain']\n",
    "        full_name = employee_detail['full_name']\n",
    "        print(f'\"full_name\": \"{full_name}\", \"company\": \"{company_name}\", \"domain\": \"{company_domain}\"')\n",
    "\n",
    "# Memanggil fungsi untuk mencetak detail karyawan, perusahaan, dan domain\n",
    "print_employee_company_domain()"
   ]
  },
  {
   "cell_type": "code",
   "execution_count": null,
   "id": "368c47f0-c9b6-47ce-9951-18f5612b8414",
   "metadata": {},
   "outputs": [],
   "source": [
    "SOAL 4"
   ]
  },
  {
   "cell_type": "code",
   "execution_count": 169,
   "id": "fb6bec7b-35a4-4168-b632-8823f5353a90",
   "metadata": {},
   "outputs": [
    {
     "data": {
      "text/plain": [
       "[{'company': 'Company 1', 'employees': ['John Doe']},\n",
       " {'company': 'Company 2', 'employees': ['Tom Smith', 'Andrew Sebastian']},\n",
       " {'company': 'Company 3', 'employees': []}]"
      ]
     },
     "execution_count": 169,
     "metadata": {},
     "output_type": "execute_result"
    }
   ],
   "source": [
    "def get_employees_by_company():\n",
    " \n",
    "\n",
    "  companies_with_employees = []\n",
    "  for company_name, company_detail in company_detail_list.items():\n",
    "    employees = [emp for emp, details in employee_detail_list.items() if details['company'] == company_name]\n",
    "    company_info = {\n",
    "      \"company\": company_name,\n",
    "      \"employees\": employees\n",
    "    }\n",
    "    companies_with_employees.append(company_info)\n",
    "\n",
    "  \n",
    "\n",
    "  return companies_with_employees  # Optional, if you need the list returned\n",
    "\n",
    "\n",
    "get_employees_by_company()\n"
   ]
  },
  {
   "cell_type": "markdown",
   "id": "d5db5d06-c874-4f20-aca3-aa6d177b818a",
   "metadata": {},
   "source": [
    "PRE-PROCESING DATA"
   ]
  },
  {
   "cell_type": "code",
   "execution_count": 44,
   "id": "97ef4825-3986-4b72-a072-8d3f4e2ed8b1",
   "metadata": {},
   "outputs": [],
   "source": [
    "import pandas\n",
    "import numpy\n",
    "from sklearn.preprocessing import LabelEncoder, OneHotEncoder, StandardScaler\n",
    "from sklearn.impute import SimpleImputer\n",
    "from sklearn.compose import ColumnTransformer "
   ]
  },
  {
   "cell_type": "code",
   "execution_count": 45,
   "id": "2e8f4ee7-dcbe-4bf7-8646-b530cb088308",
   "metadata": {},
   "outputs": [
    {
     "data": {
      "text/html": [
       "<div>\n",
       "<style scoped>\n",
       "    .dataframe tbody tr th:only-of-type {\n",
       "        vertical-align: middle;\n",
       "    }\n",
       "\n",
       "    .dataframe tbody tr th {\n",
       "        vertical-align: top;\n",
       "    }\n",
       "\n",
       "    .dataframe thead th {\n",
       "        text-align: right;\n",
       "    }\n",
       "</style>\n",
       "<table border=\"1\" class=\"dataframe\">\n",
       "  <thead>\n",
       "    <tr style=\"text-align: right;\">\n",
       "      <th></th>\n",
       "      <th>R&amp;D Spend</th>\n",
       "      <th>Administration</th>\n",
       "      <th>Marketing Spend</th>\n",
       "      <th>State</th>\n",
       "      <th>Profit</th>\n",
       "    </tr>\n",
       "  </thead>\n",
       "  <tbody>\n",
       "    <tr>\n",
       "      <th>23</th>\n",
       "      <td>NaN</td>\n",
       "      <td>105751.03</td>\n",
       "      <td>NaN</td>\n",
       "      <td>Florida</td>\n",
       "      <td>108733.99</td>\n",
       "    </tr>\n",
       "    <tr>\n",
       "      <th>38</th>\n",
       "      <td>20229.59</td>\n",
       "      <td>65947.93</td>\n",
       "      <td>NaN</td>\n",
       "      <td>New York</td>\n",
       "      <td>81229.06</td>\n",
       "    </tr>\n",
       "    <tr>\n",
       "      <th>24</th>\n",
       "      <td>77044.01</td>\n",
       "      <td>NaN</td>\n",
       "      <td>140574.81</td>\n",
       "      <td>New York</td>\n",
       "      <td>108552.04</td>\n",
       "    </tr>\n",
       "    <tr>\n",
       "      <th>39</th>\n",
       "      <td>38558.51</td>\n",
       "      <td>82982.09</td>\n",
       "      <td>174999.30</td>\n",
       "      <td>California</td>\n",
       "      <td>81005.76</td>\n",
       "    </tr>\n",
       "    <tr>\n",
       "      <th>0</th>\n",
       "      <td>165349.20</td>\n",
       "      <td>136897.80</td>\n",
       "      <td>471784.10</td>\n",
       "      <td>New York</td>\n",
       "      <td>192261.83</td>\n",
       "    </tr>\n",
       "    <tr>\n",
       "      <th>32</th>\n",
       "      <td>63408.86</td>\n",
       "      <td>129219.61</td>\n",
       "      <td>46085.25</td>\n",
       "      <td>California</td>\n",
       "      <td>97427.84</td>\n",
       "    </tr>\n",
       "    <tr>\n",
       "      <th>7</th>\n",
       "      <td>130298.13</td>\n",
       "      <td>NaN</td>\n",
       "      <td>323876.68</td>\n",
       "      <td>Florida</td>\n",
       "      <td>155752.60</td>\n",
       "    </tr>\n",
       "  </tbody>\n",
       "</table>\n",
       "</div>"
      ],
      "text/plain": [
       "    R&D Spend  Administration  Marketing Spend       State     Profit\n",
       "23        NaN       105751.03              NaN     Florida  108733.99\n",
       "38   20229.59        65947.93              NaN    New York   81229.06\n",
       "24   77044.01             NaN        140574.81    New York  108552.04\n",
       "39   38558.51        82982.09        174999.30  California   81005.76\n",
       "0   165349.20       136897.80        471784.10    New York  192261.83\n",
       "32   63408.86       129219.61         46085.25  California   97427.84\n",
       "7   130298.13             NaN        323876.68     Florida  155752.60"
      ]
     },
     "execution_count": 45,
     "metadata": {},
     "output_type": "execute_result"
    }
   ],
   "source": [
    "data_startups = pandas.read_csv('50_startups.csv')\n",
    "data_startups.sample(7)"
   ]
  },
  {
   "cell_type": "markdown",
   "id": "023fa6ff-a3da-4865-b5d4-36d663b1c8c7",
   "metadata": {},
   "source": [
    "1. Lakukan analisa mengenai field mana saja yang memiliki data kosong(Nan) lalu Isi data yang kosong tersebut menggunakan nilai mean"
   ]
  },
  {
   "cell_type": "code",
   "execution_count": 22,
   "id": "7eafd45f-682d-411c-8508-f27afacaa025",
   "metadata": {},
   "outputs": [
    {
     "data": {
      "text/plain": [
       "array([[91749.16, 114175.79, 294919.57, 'Florida', 124266.9],\n",
       "       [78389.47, 153773.43, 299737.29, 'New York', 111313.02],\n",
       "       [73994.56, 122782.75, 303319.26, 'Florida', 110352.25],\n",
       "       [23640.93, 96189.63, 148001.11, 'California', 71498.49],\n",
       "       [46014.02, 85047.44, 205517.64, 'New York', 96479.51],\n",
       "       [119943.24, 156547.42, 256512.92, 'Florida', 132602.65],\n",
       "       [162597.7, 151377.59, 443898.53, 'California', 191792.06]],\n",
       "      dtype=object)"
      ]
     },
     "execution_count": 22,
     "metadata": {},
     "output_type": "execute_result"
    }
   ],
   "source": [
    "X = data_startups.sample(7).values\n",
    "X"
   ]
  },
  {
   "cell_type": "code",
   "execution_count": null,
   "id": "cb46eb3b-602a-480a-98cc-accacd410619",
   "metadata": {},
   "outputs": [],
   "source": [
    "imputer = SimpleImputer(missing_values=np.nan, strategy='mean')\n",
    "imputer.fit(X[:, 1:])\n",
    "X[:, 1:] = imputer.transform(X[:, 1:])"
   ]
  },
  {
   "cell_type": "code",
   "execution_count": 34,
   "id": "48ee2782-255d-4d60-9b69-1b9be9670623",
   "metadata": {},
   "outputs": [
    {
     "data": {
      "text/plain": [
       "array([[1, 114175.79, 294919.57, 'Florida', 124266.9],\n",
       "       [2, 153773.43, 299737.29, 'New York', 111313.02],\n",
       "       [1, 122782.75, 303319.26, 'Florida', 110352.25],\n",
       "       [0, 96189.63, 148001.11, 'California', 71498.49],\n",
       "       [2, 85047.44, 205517.64, 'New York', 96479.51],\n",
       "       [1, 156547.42, 256512.92, 'Florida', 132602.65],\n",
       "       [0, 151377.59, 443898.53, 'California', 191792.06]], dtype=object)"
      ]
     },
     "execution_count": 34,
     "metadata": {},
     "output_type": "execute_result"
    }
   ],
   "source": [
    "X"
   ]
  },
  {
   "cell_type": "code",
   "execution_count": 38,
   "id": "8546bf9a-9f7d-424e-b143-e5b73202f952",
   "metadata": {},
   "outputs": [
    {
     "data": {
      "text/plain": [
       "array([[1, 114175.79, 294919.57, 1, 124266.9],\n",
       "       [2, 153773.43, 299737.29, 2, 111313.02],\n",
       "       [1, 122782.75, 303319.26, 1, 110352.25],\n",
       "       [0, 96189.63, 148001.11, 0, 71498.49],\n",
       "       [2, 85047.44, 205517.64, 2, 96479.51],\n",
       "       [1, 156547.42, 256512.92, 1, 132602.65],\n",
       "       [0, 151377.59, 443898.53, 0, 191792.06]], dtype=object)"
      ]
     },
     "execution_count": 38,
     "metadata": {},
     "output_type": "execute_result"
    }
   ],
   "source": [
    "label_encoder = LabelEncoder()\n",
    "X[:, -2] =label_encoder.fit_transform(X[:,0])\n",
    "X"
   ]
  },
  {
   "cell_type": "markdown",
   "id": "ba228221-b36f-4ec9-85f2-411aa1506562",
   "metadata": {},
   "source": [
    "2.Lakukan oneHotEncoder ke field state"
   ]
  },
  {
   "cell_type": "code",
   "execution_count": 43,
   "id": "5b27fac2-bb23-4b4e-91dd-d908d8da9de3",
   "metadata": {},
   "outputs": [
    {
     "data": {
      "text/html": [
       "<div>\n",
       "<style scoped>\n",
       "    .dataframe tbody tr th:only-of-type {\n",
       "        vertical-align: middle;\n",
       "    }\n",
       "\n",
       "    .dataframe tbody tr th {\n",
       "        vertical-align: top;\n",
       "    }\n",
       "\n",
       "    .dataframe thead th {\n",
       "        text-align: right;\n",
       "    }\n",
       "</style>\n",
       "<table border=\"1\" class=\"dataframe\">\n",
       "  <thead>\n",
       "    <tr style=\"text-align: right;\">\n",
       "      <th></th>\n",
       "      <th>0</th>\n",
       "      <th>1</th>\n",
       "      <th>2</th>\n",
       "      <th>3</th>\n",
       "      <th>4</th>\n",
       "      <th>5</th>\n",
       "      <th>6</th>\n",
       "      <th>7</th>\n",
       "      <th>8</th>\n",
       "      <th>9</th>\n",
       "      <th>10</th>\n",
       "    </tr>\n",
       "  </thead>\n",
       "  <tbody>\n",
       "    <tr>\n",
       "      <th>0</th>\n",
       "      <td>0.0</td>\n",
       "      <td>1.0</td>\n",
       "      <td>0.0</td>\n",
       "      <td>1.0</td>\n",
       "      <td>0.0</td>\n",
       "      <td>1.0</td>\n",
       "      <td>0.0</td>\n",
       "      <td>114175.79</td>\n",
       "      <td>294919.57</td>\n",
       "      <td>1</td>\n",
       "      <td>124266.9</td>\n",
       "    </tr>\n",
       "    <tr>\n",
       "      <th>1</th>\n",
       "      <td>0.0</td>\n",
       "      <td>1.0</td>\n",
       "      <td>0.0</td>\n",
       "      <td>1.0</td>\n",
       "      <td>0.0</td>\n",
       "      <td>0.0</td>\n",
       "      <td>1.0</td>\n",
       "      <td>153773.43</td>\n",
       "      <td>299737.29</td>\n",
       "      <td>2</td>\n",
       "      <td>111313.02</td>\n",
       "    </tr>\n",
       "    <tr>\n",
       "      <th>2</th>\n",
       "      <td>0.0</td>\n",
       "      <td>1.0</td>\n",
       "      <td>0.0</td>\n",
       "      <td>1.0</td>\n",
       "      <td>0.0</td>\n",
       "      <td>1.0</td>\n",
       "      <td>0.0</td>\n",
       "      <td>122782.75</td>\n",
       "      <td>303319.26</td>\n",
       "      <td>1</td>\n",
       "      <td>110352.25</td>\n",
       "    </tr>\n",
       "    <tr>\n",
       "      <th>3</th>\n",
       "      <td>1.0</td>\n",
       "      <td>0.0</td>\n",
       "      <td>1.0</td>\n",
       "      <td>0.0</td>\n",
       "      <td>1.0</td>\n",
       "      <td>0.0</td>\n",
       "      <td>0.0</td>\n",
       "      <td>96189.63</td>\n",
       "      <td>148001.11</td>\n",
       "      <td>0</td>\n",
       "      <td>71498.49</td>\n",
       "    </tr>\n",
       "    <tr>\n",
       "      <th>4</th>\n",
       "      <td>0.0</td>\n",
       "      <td>1.0</td>\n",
       "      <td>0.0</td>\n",
       "      <td>1.0</td>\n",
       "      <td>0.0</td>\n",
       "      <td>0.0</td>\n",
       "      <td>1.0</td>\n",
       "      <td>85047.44</td>\n",
       "      <td>205517.64</td>\n",
       "      <td>2</td>\n",
       "      <td>96479.51</td>\n",
       "    </tr>\n",
       "    <tr>\n",
       "      <th>5</th>\n",
       "      <td>0.0</td>\n",
       "      <td>1.0</td>\n",
       "      <td>0.0</td>\n",
       "      <td>1.0</td>\n",
       "      <td>0.0</td>\n",
       "      <td>1.0</td>\n",
       "      <td>0.0</td>\n",
       "      <td>156547.42</td>\n",
       "      <td>256512.92</td>\n",
       "      <td>1</td>\n",
       "      <td>132602.65</td>\n",
       "    </tr>\n",
       "    <tr>\n",
       "      <th>6</th>\n",
       "      <td>1.0</td>\n",
       "      <td>0.0</td>\n",
       "      <td>1.0</td>\n",
       "      <td>0.0</td>\n",
       "      <td>1.0</td>\n",
       "      <td>0.0</td>\n",
       "      <td>0.0</td>\n",
       "      <td>151377.59</td>\n",
       "      <td>443898.53</td>\n",
       "      <td>0</td>\n",
       "      <td>191792.06</td>\n",
       "    </tr>\n",
       "  </tbody>\n",
       "</table>\n",
       "</div>"
      ],
      "text/plain": [
       "    0    1    2    3    4    5    6          7          8  9          10\n",
       "0  0.0  1.0  0.0  1.0  0.0  1.0  0.0  114175.79  294919.57  1   124266.9\n",
       "1  0.0  1.0  0.0  1.0  0.0  0.0  1.0  153773.43  299737.29  2  111313.02\n",
       "2  0.0  1.0  0.0  1.0  0.0  1.0  0.0  122782.75  303319.26  1  110352.25\n",
       "3  1.0  0.0  1.0  0.0  1.0  0.0  0.0   96189.63  148001.11  0   71498.49\n",
       "4  0.0  1.0  0.0  1.0  0.0  0.0  1.0   85047.44  205517.64  2   96479.51\n",
       "5  0.0  1.0  0.0  1.0  0.0  1.0  0.0  156547.42  256512.92  1  132602.65\n",
       "6  1.0  0.0  1.0  0.0  1.0  0.0  0.0  151377.59  443898.53  0  191792.06"
      ]
     },
     "execution_count": 43,
     "metadata": {},
     "output_type": "execute_result"
    }
   ],
   "source": [
    "one_hot_encoder = OneHotEncoder(categories=X[0])\n",
    "ct = ColumnTransformer([(\"Datastartup\", OneHotEncoder(),[0])], remainder=\"passthrough\")\n",
    "X = ct.fit_transform(X)\n",
    "df = pandas.DataFrame(X)\n",
    "df"
   ]
  },
  {
   "cell_type": "markdown",
   "id": "929bbb04-fef8-411a-b9bc-a3512bd6e854",
   "metadata": {},
   "source": [
    "3.Buat field baru yaitu Tax. dimana Tax = (profit + Marketing Spend + administration) * 5%"
   ]
  },
  {
   "cell_type": "code",
   "execution_count": 46,
   "id": "2532499d-ce3a-4c84-8eb0-bba40ed468a3",
   "metadata": {},
   "outputs": [
    {
     "data": {
      "text/plain": [
       "array([[     0,      1,      0,      1,      0,      1,      0, 114175,\n",
       "        294919,      1, 124266],\n",
       "       [     0,      1,      0,      1,      0,      0,      1, 153773,\n",
       "        299737,      2, 111313],\n",
       "       [     0,      1,      0,      1,      0,      1,      0, 122782,\n",
       "        303319,      1, 110352],\n",
       "       [     1,      0,      1,      0,      1,      0,      0,  96189,\n",
       "        148001,      0,  71498],\n",
       "       [     0,      1,      0,      1,      0,      0,      1,  85047,\n",
       "        205517,      2,  96479],\n",
       "       [     0,      1,      0,      1,      0,      1,      0, 156547,\n",
       "        256512,      1, 132602],\n",
       "       [     1,      0,      1,      0,      1,      0,      0, 151377,\n",
       "        443898,      0, 191792]])"
      ]
     },
     "execution_count": 46,
     "metadata": {},
     "output_type": "execute_result"
    }
   ],
   "source": [
    "X=X.astype(int)\n",
    "X"
   ]
  },
  {
   "cell_type": "code",
   "execution_count": 47,
   "id": "331acdf6-7b1f-4c44-817e-c9b197fcf23f",
   "metadata": {},
   "outputs": [
    {
     "name": "stdout",
     "output_type": "stream",
     "text": [
      "    R&D Spend  Administration  Marketing Spend       State     Profit\n",
      "0   165349.20       136897.80        471784.10    New York  192261.83\n",
      "1   162597.70       151377.59        443898.53  California  191792.06\n",
      "2   153441.51       101145.55        407934.54     Florida  191050.39\n",
      "3   144372.41       118671.85        383199.62    New York  182901.99\n",
      "4   142107.34        91391.77        366168.42     Florida  166187.94\n",
      "5   131876.90        99814.71        362861.36    New York  156991.12\n",
      "6   134615.46       147198.87        127716.82  California  156122.51\n",
      "7   130298.13             NaN        323876.68     Florida  155752.60\n",
      "8   120542.52       148718.95        311613.29    New York  152211.77\n",
      "9   123334.88       108679.17        304981.62  California  149759.96\n",
      "10        NaN       110594.11        229160.95     Florida  146121.95\n",
      "11  100671.96        91790.61        249744.55  California  144259.40\n",
      "12   93863.75       127320.38        249839.44     Florida  141585.52\n",
      "13   91992.39       135495.07        252664.93  California        NaN\n",
      "14  119943.24       156547.42        256512.92     Florida  132602.65\n",
      "15  114523.61       122616.84        261776.23    New York  129917.04\n",
      "16   78013.11       121597.55        264346.06  California  126992.93\n",
      "17   94657.16       145077.58        282574.31    New York  125370.37\n",
      "18   91749.16       114175.79        294919.57     Florida  124266.90\n",
      "19   86419.70       153514.11              NaN    New York  122776.86\n",
      "20   76253.86       113867.30        298664.47  California  118474.03\n",
      "21   78389.47       153773.43        299737.29    New York  111313.02\n",
      "22   73994.56       122782.75        303319.26     Florida  110352.25\n",
      "23        NaN       105751.03              NaN     Florida  108733.99\n",
      "24   77044.01             NaN        140574.81    New York  108552.04\n",
      "25   64664.71       139553.16        137962.62  California  107404.34\n",
      "26   75328.87       144135.98        134050.07     Florida  105733.54\n",
      "27   72107.60       127864.55        353183.81    New York  105008.31\n",
      "28   66051.52       182645.56        118148.20     Florida  103282.38\n",
      "29   65605.48       153032.06        107138.38    New York  101004.64\n",
      "30   61994.48       115641.28         91131.24     Florida   99937.59\n",
      "31        NaN       152701.92         88218.23    New York        NaN\n",
      "32   63408.86       129219.61         46085.25  California   97427.84\n",
      "33   55493.95       103057.49        214634.81     Florida   96778.92\n",
      "34   46426.07       157693.92        210797.67  California   96712.80\n",
      "35   46014.02        85047.44        205517.64    New York   96479.51\n",
      "36   28663.76       127056.21        201126.82     Florida   90708.19\n",
      "37   44069.95             NaN        197029.42  California   89949.14\n",
      "38   20229.59        65947.93              NaN    New York   81229.06\n",
      "39   38558.51        82982.09        174999.30  California   81005.76\n",
      "40   28754.33       118546.05        172795.67  California   78239.91\n",
      "41   27892.92        84710.77        164470.71     Florida   77798.83\n",
      "42   23640.93        96189.63        148001.11  California   71498.49\n",
      "43   15505.73       127382.30         35534.17    New York   69758.98\n",
      "44   22177.74       154806.14         28334.72  California   65200.33\n",
      "45    1000.23       124153.04          1903.93    New York   64926.08\n",
      "46    1315.46       115816.21        297114.46     Florida   49490.75\n",
      "47        NaN       135426.92              NaN  California   42559.73\n",
      "48     542.05        51743.15              NaN    New York   35673.41\n",
      "49        NaN       116983.80         45173.06  California   14681.40\n"
     ]
    }
   ],
   "source": [
    "data_startups = pandas.read_csv('50_startups.csv')\n",
    "data_startups = (data['Profit'] + data['Marketing Spend'] + data['Administration']) * 0.05\n",
    "\n",
    "# Output data dengan field \"Tax\" baru\n",
    "print(data)"
   ]
  },
  {
   "cell_type": "markdown",
   "id": "dcf6334c-1904-4acf-93c8-c18e49be3edf",
   "metadata": {},
   "source": [
    "Jalankan standardScaler field-field tersebut"
   ]
  },
  {
   "cell_type": "code",
   "execution_count": 48,
   "id": "eee77402-0489-4490-a0f0-923705dedb1a",
   "metadata": {},
   "outputs": [
    {
     "data": {
      "text/plain": [
       "array([[-0.63245553,  0.63245553, -0.63245553,  0.63245553, -0.63245553,\n",
       "         1.15470054, -0.63245553, -0.42844583,  0.18736127,  0.        ,\n",
       "         0.13011316],\n",
       "       [-0.63245553,  0.63245553, -0.63245553,  0.63245553, -0.63245553,\n",
       "        -0.8660254 ,  1.58113883,  1.0438059 ,  0.24351471,  1.32287566,\n",
       "        -0.24369833],\n",
       "       [-0.63245553,  0.63245553, -0.63245553,  0.63245553, -0.63245553,\n",
       "         1.15470054, -0.63245553, -0.10843798,  0.28526266,  0.        ,\n",
       "        -0.27143189],\n",
       "       [ 1.58113883, -1.58113883,  1.58113883, -1.58113883,  1.58113883,\n",
       "        -0.8660254 , -0.63245553, -1.09716444, -1.52495728, -1.32287566,\n",
       "        -1.39272207],\n",
       "       [-0.63245553,  0.63245553, -0.63245553,  0.63245553, -0.63245553,\n",
       "        -0.8660254 ,  1.58113883, -1.51142346, -0.8546125 ,  1.32287566,\n",
       "        -0.67179373],\n",
       "       [-0.63245553,  0.63245553, -0.63245553,  0.63245553, -0.63245553,\n",
       "         1.15470054, -0.63245553,  1.14694308, -0.2602695 ,  0.        ,\n",
       "         0.37068234],\n",
       "       [ 1.58113883, -1.58113883,  1.58113883, -1.58113883,  1.58113883,\n",
       "        -0.8660254 , -0.63245553,  0.95472273,  1.92370063, -1.32287566,\n",
       "         2.07885051]])"
      ]
     },
     "execution_count": 48,
     "metadata": {},
     "output_type": "execute_result"
    }
   ],
   "source": [
    "sc = StandardScaler()\n",
    "X = sc.fit_transform(X)\n",
    "X"
   ]
  }
 ],
 "metadata": {
  "kernelspec": {
   "display_name": "Python 3 (ipykernel)",
   "language": "python",
   "name": "python3"
  },
  "language_info": {
   "codemirror_mode": {
    "name": "ipython",
    "version": 3
   },
   "file_extension": ".py",
   "mimetype": "text/x-python",
   "name": "python",
   "nbconvert_exporter": "python",
   "pygments_lexer": "ipython3",
   "version": "3.11.7"
  }
 },
 "nbformat": 4,
 "nbformat_minor": 5
}
